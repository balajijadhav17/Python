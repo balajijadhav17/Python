{
 "cells": [
  {
   "cell_type": "code",
   "execution_count": null,
   "id": "d5ae452d-1bfe-4c69-9d11-1a55249f295d",
   "metadata": {},
   "outputs": [],
   "source": [
    "l1=[11,22,33,44,\"mark\",\"student\"]\n",
    "for i in l1:\n",
    "    print(i)"
   ]
  }
 ],
 "metadata": {
  "kernelspec": {
   "display_name": "Python 3 (ipykernel)",
   "language": "python",
   "name": "python3"
  },
  "language_info": {
   "codemirror_mode": {
    "name": "ipython",
    "version": 3
   },
   "file_extension": ".py",
   "mimetype": "text/x-python",
   "name": "python",
   "nbconvert_exporter": "python",
   "pygments_lexer": "ipython3",
   "version": "3.12.4"
  }
 },
 "nbformat": 4,
 "nbformat_minor": 5
}
