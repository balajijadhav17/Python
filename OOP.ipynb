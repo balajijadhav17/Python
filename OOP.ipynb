{
 "cells": [
  {
   "cell_type": "markdown",
   "id": "4c6e7fc4-41a7-42ec-8e6f-786ab08c6330",
   "metadata": {},
   "source": [
    "# OOP"
   ]
  },
  {
   "cell_type": "markdown",
   "id": "879adf79-621f-4c9a-acb0-024a6bc0260b",
   "metadata": {},
   "source": [
    "# Classes And Object"
   ]
  },
  {
   "cell_type": "code",
   "execution_count": 1,
   "id": "08db8ba2-331d-4821-9a50-4c78be973b84",
   "metadata": {},
   "outputs": [
    {
     "name": "stdout",
     "output_type": "stream",
     "text": [
      "Welcome to OOP\n"
     ]
    }
   ],
   "source": [
    "class class1: # Simple class\n",
    "    print(\"Welcome to OOP\")"
   ]
  },
  {
   "cell_type": "code",
   "execution_count": 3,
   "id": "59da9725-e0e9-4fe2-ab4e-79201521716d",
   "metadata": {},
   "outputs": [
    {
     "name": "stdout",
     "output_type": "stream",
     "text": [
      "12\n",
      "Addition of 30 & 45 is: 75\n"
     ]
    }
   ],
   "source": [
    "class class2:\n",
    "    a=12\n",
    "    b=30\n",
    "    c=45\n",
    "    result=b+c\n",
    "    print(a)\n",
    "    print(\"Addition of\",b,\"&\",c,\"is:\",result)"
   ]
  },
  {
   "cell_type": "code",
   "execution_count": 18,
   "id": "f32a37af-d6f0-45a7-a73c-f250429488b5",
   "metadata": {},
   "outputs": [
    {
     "name": "stdout",
     "output_type": "stream",
     "text": [
      "21\n"
     ]
    }
   ],
   "source": [
    "class class3:\n",
    "    age=21\n",
    "    print(age)\n",
    "       \n",
    "obj=class3() # Object "
   ]
  },
  {
   "cell_type": "code",
   "execution_count": 25,
   "id": "67901a5b-1f08-40a1-a229-2a84d808338a",
   "metadata": {},
   "outputs": [
    {
     "name": "stdout",
     "output_type": "stream",
     "text": [
      "I am a Constructor\n"
     ]
    }
   ],
   "source": [
    "class class4:\n",
    "    def __init__(self):  # Constructor\n",
    "        print(\"I am a Constructor\")\n",
    "obj=class4()\n",
    "        "
   ]
  },
  {
   "cell_type": "code",
   "execution_count": 29,
   "id": "f1d19450-778a-4b3d-8a4b-41c5e7ac982f",
   "metadata": {},
   "outputs": [
    {
     "name": "stdout",
     "output_type": "stream",
     "text": [
      "21\n"
     ]
    }
   ],
   "source": [
    "class class5:\n",
    "    def __init__(self):\n",
    "        age=21\n",
    "        print(age)\n",
    "obj=class5() \n",
    "# Note : In constructor object creation is compalasary "
   ]
  },
  {
   "cell_type": "code",
   "execution_count": 34,
   "id": "a3662086-58d3-4ca3-b4a3-2ca8c1b3fbc2",
   "metadata": {},
   "outputs": [
    {
     "name": "stdout",
     "output_type": "stream",
     "text": [
      "Python\n",
      "a: 10\n",
      "b: 30\n"
     ]
    }
   ],
   "source": [
    "class class6:\n",
    "    a=10\n",
    "    b=30\n",
    "    def __init__(self):\n",
    "        print(\"Python\")\n",
    "        print(\"a:\",self.a)  #when you access class variable in the consatructor that time access with \"self\" function\n",
    "        print(\"b:\",self.b)\n",
    "obj=class6()"
   ]
  },
  {
   "cell_type": "code",
   "execution_count": 40,
   "id": "4a6c2379-e6ba-477b-b788-875eaceb6275",
   "metadata": {},
   "outputs": [
    {
     "name": "stdout",
     "output_type": "stream",
     "text": [
      "I am a destructor\n"
     ]
    }
   ],
   "source": [
    "class class7:\n",
    "    def __del__(self):\n",
    "        print(\"I am a destructor\")\n",
    "obj=class7()"
   ]
  },
  {
   "cell_type": "code",
   "execution_count": 46,
   "id": "c35d9403-f50d-4fa0-a8c6-49903ba7ef60",
   "metadata": {},
   "outputs": [
    {
     "name": "stdout",
     "output_type": "stream",
     "text": [
      "Hello World\n",
      "[11, 22, 33, 44, 66]\n",
      "I am a Method...\n"
     ]
    }
   ],
   "source": [
    "class class8:\n",
    "    print(\"Hello World\")\n",
    "    def __init__(self):\n",
    "        l1=[11,22,33,44,66]\n",
    "        print(l1)\n",
    "    def method1(self):\n",
    "        print(\"I am a Method...\")\n",
    "obj=class8()\n",
    "obj.method1()"
   ]
  },
  {
   "cell_type": "code",
   "execution_count": 48,
   "id": "2c688477-19e6-4396-a53a-70ad5481c7a4",
   "metadata": {},
   "outputs": [
    {
     "name": "stdout",
     "output_type": "stream",
     "text": [
      "Student Information.\n",
      "21 balaji 83\n"
     ]
    }
   ],
   "source": [
    "class class9:\n",
    "    def __init__(self,age,name,marks):\n",
    "        print(\"Student Information.\")\n",
    "        print(age,name,marks)\n",
    "obj=class9(21,\"balaji\",83)"
   ]
  },
  {
   "cell_type": "code",
   "execution_count": 53,
   "id": "3c972433-6eaf-4ac9-9562-2ca27f6a6078",
   "metadata": {},
   "outputs": [
    {
     "name": "stdout",
     "output_type": "stream",
     "text": [
      "Python 1\n",
      "83\n"
     ]
    }
   ],
   "source": [
    "class class10:\n",
    "    marks=83\n",
    "    def __init__(self,language,rank):\n",
    "        print(language,rank)\n",
    "obj=class10(\"Python\",1)\n",
    "print(obj.marks)"
   ]
  },
  {
   "cell_type": "markdown",
   "id": "2bb37fea-3ef7-455a-a6fc-4bd856255e7c",
   "metadata": {},
   "source": [
    "# Introduction to Inheritance"
   ]
  },
  {
   "cell_type": "code",
   "execution_count": 62,
   "id": "bde5fad6-2ed8-48f6-8a0b-22b541096c29",
   "metadata": {},
   "outputs": [
    {
     "name": "stdout",
     "output_type": "stream",
     "text": [
      "Python is a Best Programming Language...\n",
      "Yes Python is a best programming language...\n"
     ]
    }
   ],
   "source": [
    "# Inheritance : Inheritance is a process to inherite the all property ,feature and function of super class to other class is called inheritance\n",
    "\n",
    "# 1> Simple inheritance : Only one super class and one sub class\n",
    "class super_class:\n",
    "    def name(self):\n",
    "        print(\"Python is a Best Programming Language...\")\n",
    "class sub_class(super_class):\n",
    "    def name2(self):\n",
    "        print(\"Yes Python is a best programming language...\")\n",
    "obj=sub_class() # Always create sub class object\n",
    "obj.name()\n",
    "obj.name2()\n",
    "\n",
    "        \n",
    "        "
   ]
  },
  {
   "cell_type": "code",
   "execution_count": 63,
   "id": "3f0d778c-2ce6-4c34-8715-882983e619fc",
   "metadata": {},
   "outputs": [
    {
     "name": "stdout",
     "output_type": "stream",
     "text": [
      "Hii balaji\n",
      "jadhav\n",
      "Welcome\n"
     ]
    }
   ],
   "source": [
    "# 2> Multiple inheritance : One sub class and number of super classes\n",
    "class class11:\n",
    "    name=\"balaji\"\n",
    "    def a(self):\n",
    "        print(\"Hii\",self.name)\n",
    "class class12:\n",
    "    sirname=\"jadhav\"\n",
    "    def b(self):\n",
    "        print(self.sirname,\" \",)\n",
    "class  class13(class11,class12):\n",
    "    def show(self):\n",
    "        print(\"Welcome\")\n",
    "obj=class13()\n",
    "obj.a()\n",
    "obj.b()\n",
    "obj.show()"
   ]
  },
  {
   "cell_type": "code",
   "execution_count": 64,
   "id": "c3d8abe1-5b57-497f-bd79-c10df2b0385d",
   "metadata": {},
   "outputs": [
    {
     "name": "stdout",
     "output_type": "stream",
     "text": [
      "Balaji Jadhav\n",
      "Manohar Jadhav\n"
     ]
    }
   ],
   "source": [
    "# 3> Multi-level inheritance: one super class and one sub class and also intermidate class between both class\n",
    "class class14:\n",
    "    sirname=\"Jadhav\"\n",
    "class class15(class14):\n",
    "    def meth1(self):\n",
    "        print(\"Balaji\",self.sirname)\n",
    "class class16(class15):\n",
    "    def meth2(self):\n",
    "        print(\"Manohar\",self.sirname)\n",
    "obj=class16()\n",
    "obj.meth1()\n",
    "obj.meth2()\n",
    "    "
   ]
  },
  {
   "cell_type": "code",
   "execution_count": 67,
   "id": "4c321071-f9fb-4d25-8963-ee77586e683a",
   "metadata": {},
   "outputs": [
    {
     "name": "stdout",
     "output_type": "stream",
     "text": [
      "balaji Jadhav\n",
      "manohar Jadhav\n"
     ]
    }
   ],
   "source": [
    "# 3> Multi-level inheritance: one super class and one sub class and also intermidate class between both class\n",
    "class class14:\n",
    "    sirname=\"Jadhav\"\n",
    "class class15(class14):\n",
    "    def meth1(self,b):\n",
    "        print(b,self.sirname)\n",
    "class class16(class15):\n",
    "    def meth2(self,c):\n",
    "        print(c,self.sirname)\n",
    "obj=class16()\n",
    "obj.meth1(\"balaji\")\n",
    "obj.meth2(\"manohar\")\n",
    "    "
   ]
  },
  {
   "cell_type": "code",
   "execution_count": 74,
   "id": "70f0c96a-a356-4ca7-82e4-f65d133bbd93",
   "metadata": {},
   "outputs": [
    {
     "name": "stdout",
     "output_type": "stream",
     "text": [
      "balaji mark 87\n",
      "ramkishan mark 90\n",
      "lavkush mark 87\n",
      "alok mark 90\n"
     ]
    }
   ],
   "source": [
    "# 4> Hybrid inheritance: One super class and multiple sub classes\n",
    "class class17:\n",
    "    marks1=87\n",
    "    marks2=90\n",
    "class c1(class17):\n",
    "    def m1(self):\n",
    "        print(\"balaji mark\",self.marks1)\n",
    "class c2(class17):\n",
    "    def m2(self):\n",
    "        print(\"ramkishan mark\",self.marks2)\n",
    "class c3(class17):\n",
    "    def m3(self):\n",
    "        print(\"lavkush mark\",self.marks1)\n",
    "class c4(class17):\n",
    "    def m4(self):\n",
    "        print(\"alok mark\",self.marks2)\n",
    "obj=c1()\n",
    "obj.m1()\n",
    "obj=c2()\n",
    "obj.m2()\n",
    "obj=c3()\n",
    "obj.m3()\n",
    "obj=c4()\n",
    "obj.m4()"
   ]
  },
  {
   "cell_type": "code",
   "execution_count": 92,
   "id": "dee9a00d-5662-4c4b-97a3-2b6fa802ebbc",
   "metadata": {},
   "outputs": [
    {
     "name": "stdout",
     "output_type": "stream",
     "text": [
      "hi\n",
      "Hello world\n"
     ]
    }
   ],
   "source": [
    "# Abstact class : abstract class contain one or more method\n",
    "from abc import ABC,abstractmethod\n",
    "class A(ABC):\n",
    "    def show(self):\n",
    "        print(\"hi\")\n",
    "    def show2(self):\n",
    "        pass\n",
    "class B(A):\n",
    "    def new(self):\n",
    "        print(\"Hello world\")\n",
    "obj=B()\n",
    "obj.show()\n",
    "obj.new()"
   ]
  },
  {
   "cell_type": "markdown",
   "id": "ab7760f0-0329-458c-ba7d-ba230917c2c0",
   "metadata": {},
   "source": [
    "# Access Modifier"
   ]
  },
  {
   "cell_type": "code",
   "execution_count": 98,
   "id": "83fab35e-c6e2-40a5-a285-843979436332",
   "metadata": {},
   "outputs": [
    {
     "name": "stdout",
     "output_type": "stream",
     "text": [
      "12   30   90\n"
     ]
    }
   ],
   "source": [
    "class A:\n",
    "    a=12    # public \n",
    "    _b=30   # protected\n",
    "    __c=90  # private\n",
    "    print(a,\" \",_b,\" \",__c)\n"
   ]
  },
  {
   "cell_type": "code",
   "execution_count": 103,
   "id": "2dccd689-62c1-49d6-a674-5f91a9e5d9d6",
   "metadata": {},
   "outputs": [
    {
     "name": "stdout",
     "output_type": "stream",
     "text": [
      "12   30   90\n",
      "\n",
      "12\n",
      "30\n"
     ]
    },
    {
     "ename": "AttributeError",
     "evalue": "'A' object has no attribute '__c'",
     "output_type": "error",
     "traceback": [
      "\u001b[1;31m---------------------------------------------------------------------------\u001b[0m",
      "\u001b[1;31mAttributeError\u001b[0m                            Traceback (most recent call last)",
      "Cell \u001b[1;32mIn[103], line 11\u001b[0m\n\u001b[0;32m      9\u001b[0m \u001b[38;5;28mprint\u001b[39m(obj\u001b[38;5;241m.\u001b[39ma)\n\u001b[0;32m     10\u001b[0m \u001b[38;5;28mprint\u001b[39m(obj\u001b[38;5;241m.\u001b[39m_b)\n\u001b[1;32m---> 11\u001b[0m \u001b[38;5;28mprint\u001b[39m(\u001b[43mobj\u001b[49m\u001b[38;5;241;43m.\u001b[39;49m\u001b[43m__c\u001b[49m)\n",
      "\u001b[1;31mAttributeError\u001b[0m: 'A' object has no attribute '__c'"
     ]
    }
   ],
   "source": [
    "class A:\n",
    "    a=12    # public \n",
    "    _b=30   # protected\n",
    "    __c=90  # private\n",
    "    def __init__(self):\n",
    "        print(self.a,\" \",self._b,\" \",self.__c)\n",
    "obj=A()\n",
    "print()\n",
    "print(obj.a)\n",
    "print(obj._b)\n",
    "print(obj.__c)\n"
   ]
  },
  {
   "cell_type": "code",
   "execution_count": null,
   "id": "649b6d5d-0225-455f-b125-b8998f07adad",
   "metadata": {},
   "outputs": [],
   "source": []
  }
 ],
 "metadata": {
  "kernelspec": {
   "display_name": "Python 3 (ipykernel)",
   "language": "python",
   "name": "python3"
  },
  "language_info": {
   "codemirror_mode": {
    "name": "ipython",
    "version": 3
   },
   "file_extension": ".py",
   "mimetype": "text/x-python",
   "name": "python",
   "nbconvert_exporter": "python",
   "pygments_lexer": "ipython3",
   "version": "3.12.5"
  }
 },
 "nbformat": 4,
 "nbformat_minor": 5
}
