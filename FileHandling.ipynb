{
 "cells": [
  {
   "cell_type": "markdown",
   "id": "66b4f8c0-13e5-4dec-9d6b-b5f3e76a9875",
   "metadata": {},
   "source": [
    "# File Handling"
   ]
  },
  {
   "cell_type": "code",
   "execution_count": 2,
   "id": "9e70d067-c84e-4705-9f83-1fbe4bc0c4e9",
   "metadata": {},
   "outputs": [
    {
     "name": "stdout",
     "output_type": "stream",
     "text": [
      "File Created Successfully....\n"
     ]
    }
   ],
   "source": [
    "# Create  Empty File\n",
    "f=open(\"C:\\\\Users\\\\Balaji Jadhav\\\\OneDrive\\\\Desktop\\\\Python\\\\fistfile.txt\",\"x\")\n",
    "print(\"File Created Successfully....\")"
   ]
  },
  {
   "cell_type": "code",
   "execution_count": 4,
   "id": "2de17481-2443-46f5-b43a-5c5b39295c8c",
   "metadata": {},
   "outputs": [
    {
     "name": "stdout",
     "output_type": "stream",
     "text": [
      "Data Write Successfully....\n"
     ]
    }
   ],
   "source": [
    "# Write data in the file\n",
    "f=open(\"C:\\\\Users\\\\Balaji Jadhav\\\\OneDrive\\\\Desktop\\\\Python\\\\fistfile.txt\",\"w\")\n",
    "f.write(\"Data Scientist\\n Balaji Jadhav\")\n",
    "print(\"Data Write Successfully....\")"
   ]
  },
  {
   "cell_type": "code",
   "execution_count": 6,
   "id": "cc4dc01f-051a-468e-b8ce-936156410016",
   "metadata": {},
   "outputs": [
    {
     "name": "stdout",
     "output_type": "stream",
     "text": [
      "Data Scientist\n",
      " Balaji Jadhav\n",
      "Data Readed Successfully....\n"
     ]
    }
   ],
   "source": [
    "# Read data in the file\n",
    "f=open(\"C:\\\\Users\\\\Balaji Jadhav\\\\OneDrive\\\\Desktop\\\\Python\\\\fistfile.txt\",\"r\")\n",
    "print(f.read(30))\n",
    "print(\"Data Readed Successfully....\")"
   ]
  },
  {
   "cell_type": "code",
   "execution_count": 7,
   "id": "d32ac4f0-8274-47e0-9597-c81735723676",
   "metadata": {},
   "outputs": [
    {
     "name": "stdout",
     "output_type": "stream",
     "text": [
      "Data Scientist\n",
      "\n",
      "Data Readed Successfully....\n"
     ]
    }
   ],
   "source": [
    "# ReadLine for single line of data in the file\n",
    "f=open(\"C:\\\\Users\\\\Balaji Jadhav\\\\OneDrive\\\\Desktop\\\\Python\\\\fistfile.txt\",\"r\")\n",
    "print(f.readline())\n",
    "print(\"Data Readed Successfully....\")"
   ]
  },
  {
   "cell_type": "code",
   "execution_count": 8,
   "id": "785c3519-55c0-4bc1-80ae-ead6e3bcf236",
   "metadata": {},
   "outputs": [
    {
     "name": "stdout",
     "output_type": "stream",
     "text": [
      "['Data Scientist\\n', ' Balaji Jadhav']\n",
      "Data Readed Successfully....\n"
     ]
    }
   ],
   "source": [
    "# ReadLine for single line of data in the file\n",
    "f=open(\"C:\\\\Users\\\\Balaji Jadhav\\\\OneDrive\\\\Desktop\\\\Python\\\\fistfile.txt\",\"r\")\n",
    "print(f.readlines())\n",
    "print(\"Data Readed Successfully....\")"
   ]
  },
  {
   "cell_type": "code",
   "execution_count": 12,
   "id": "c5a2e893-ae91-4c20-a766-7c40454f3a2b",
   "metadata": {},
   "outputs": [
    {
     "name": "stdout",
     "output_type": "stream",
     "text": [
      "File not availabe please create file first\n"
     ]
    }
   ],
   "source": [
    "# Read data from anvailalable file\n",
    "try:\n",
    "    f=open(\"C:\\\\Users\\\\Balaji Jadhav\\\\OneDrive\\\\Desktop\\\\Python\\\\secondfile.txt\",\"r\")\n",
    "    print(f.readlines())\n",
    "    print(\"Data Readed Successfully....\")\n",
    "except:\n",
    "    print(\"File not availabe please create file first\")\n",
    "else:\n",
    "    f.close()\n",
    "    print(\"File close...\")"
   ]
  },
  {
   "cell_type": "code",
   "execution_count": 19,
   "id": "85ed496b-bf4d-42a2-aad0-44eeb627413c",
   "metadata": {},
   "outputs": [
    {
     "name": "stdout",
     "output_type": "stream",
     "text": [
      "Data is copied from firstfile to secondfile...\n"
     ]
    }
   ],
   "source": [
    "# Data copy from one file to another file\n",
    "with open(\"C:\\\\Users\\\\Balaji Jadhav\\\\OneDrive\\\\Desktop\\\\Python\\\\fistfile.txt\") as f2:\n",
    "    with open(\"C:\\\\Users\\\\Balaji Jadhav\\\\OneDrive\\\\Desktop\\\\Python\\\\secondfile.txt\",\"w\") as f3:\n",
    "          for i in f2:\n",
    "             f3.write(i)\n",
    "    print(\"Data is copied from firstfile to secondfile...\")          "
   ]
  },
  {
   "cell_type": "code",
   "execution_count": 20,
   "id": "adb126a3-717d-4fa0-a15f-f17af1c16835",
   "metadata": {},
   "outputs": [
    {
     "name": "stdout",
     "output_type": "stream",
     "text": [
      "File Created Successfully....\n"
     ]
    }
   ],
   "source": [
    "# Create  Empty File\n",
    "f=open(\"C:\\\\Users\\\\Balaji Jadhav\\\\OneDrive\\\\Desktop\\\\Python\\\\thirdfile.txt\",\"x\")\n",
    "print(\"File Created Successfully....\")"
   ]
  },
  {
   "cell_type": "code",
   "execution_count": 22,
   "id": "def7f32e-a355-49a9-806b-f97e24d361bc",
   "metadata": {},
   "outputs": [
    {
     "name": "stdout",
     "output_type": "stream",
     "text": [
      "Data Write Created Successfully....\n"
     ]
    }
   ],
   "source": [
    "# write data\n",
    "f=open(\"C:\\\\Users\\\\Balaji Jadhav\\\\OneDrive\\\\Desktop\\\\Python\\\\thirdfile.txt\",\"w\")\n",
    "f.write(\"Machine Learning\")\n",
    "print(\"Data Write Created Successfully....\")"
   ]
  },
  {
   "cell_type": "code",
   "execution_count": 23,
   "id": "3fa5eeca-65de-40b8-8062-f5046e93b76f",
   "metadata": {},
   "outputs": [
    {
     "name": "stdout",
     "output_type": "stream",
     "text": [
      "File Removed.....\n"
     ]
    }
   ],
   "source": [
    "# Delete file\n",
    "import os\n",
    "os.remove(\"C:\\\\Users\\\\Balaji Jadhav\\\\OneDrive\\\\Desktop\\\\Python\\\\secondfile.txt\")\n",
    "print(\"File Removed.....\")"
   ]
  },
  {
   "cell_type": "code",
   "execution_count": 24,
   "id": "bca56f38-d4c8-4684-97c2-f70c30a51564",
   "metadata": {},
   "outputs": [
    {
     "name": "stdout",
     "output_type": "stream",
     "text": [
      "Prime numbers between 10 and 50: [11, 13, 17, 19, 23, 29, 31, 37, 41, 43, 47]\n"
     ]
    }
   ],
  
 ],
 "metadata": {
  "kernelspec": {
   "display_name": "Python 3 (ipykernel)",
   "language": "python",
   "name": "python3"
  },
  "language_info": {
   "codemirror_mode": {
    "name": "ipython",
    "version": 3
   },
   "file_extension": ".py",
   "mimetype": "text/x-python",
   "name": "python",
   "nbconvert_exporter": "python",
   "pygments_lexer": "ipython3",
   "version": "3.12.3"
  }
 },
 "nbformat": 4,
 "nbformat_minor": 5
}
