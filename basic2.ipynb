{
 "cells": [
  {
   "cell_type": "raw",
   "id": "68db6526-90f2-4230-bf36-0cfa49428711",
   "metadata": {
    "editable": true,
    "raw_mimetype": "",
    "slideshow": {
     "slide_type": ""
    },
    "tags": []
   },
   "source": [
    "# User Input"
   ]
  },
  {
   "cell_type": "code",
   "execution_count": 1,
   "id": "6c71ced8-fada-4cdb-937d-94476180a158",
   "metadata": {
    "editable": true,
    "slideshow": {
     "slide_type": ""
    },
    "tags": []
   },
   "outputs": [
    {
     "name": "stdout",
     "output_type": "stream",
     "text": [
      "Enter two number:\n"
     ]
    },
    {
     "name": "stdout",
     "output_type": "stream",
     "text": [
      " 12\n",
      " 34\n"
     ]
    },
    {
     "name": "stdout",
     "output_type": "stream",
     "text": [
      "Addition of two enterd number is =  46\n"
     ]
    }
   ],
   "source": [
    "print(\"Enter two number:\")\n",
    "a,b=int(input()),int(input())\n",
    "c=a+b\n",
    "print(\"Addition of two enterd number is = \", c)"
   ]
  },
  {
   "cell_type": "code",
   "execution_count": 9,
   "id": "9e38406e-68c9-45f9-8cf0-a99b7a108f0a",
   "metadata": {
    "editable": true,
    "slideshow": {
     "slide_type": ""
    },
    "tags": []
   },
   "outputs": [
    {
     "name": "stdout",
     "output_type": "stream",
     "text": [
      "Enter your name: balaji datta jadhav\n"
     ]
    },
    {
     "name": "stdout",
     "output_type": "stream",
     "text": [
      "Hello  balaji datta jadhav\n"
     ]
    }
   ],
   "source": [
    "x=input(\"Enter your name:\")\n",
    "print\"(x)"
   ]
  },
  {
   "cell_type": "code",
   "execution_count": null,
   "id": "aaff2936-a22d-4c53-bdf2-cfd991076deb",
   "metadata": {},
   "outputs": [],
   "source": [
    "# Operators"
   ]
  },
  {
   "cell_type": "code",
   "execution_count": null,
   "id": "03e14c5a-4ba4-4c09-bb9e-c4199f6691b8",
   "metadata": {
    "editable": true,
    "slideshow": {
     "slide_type": ""
    },
    "tags": []
   },
   "outputs": [],
   "source": [
    "#1 Arithmatic operator\n"
   ]
  },
  {
   "cell_type": "code",
   "execution_count": null,
   "id": "803ef05a-6bcd-4c25-8bf1-dc663179bf3c",
   "metadata": {},
   "outputs": [
    {
     "name": "stdout",
     "output_type": "stream",
     "text": [
      "Power =  8\n",
      "Power =  64\n",
      "Power =  15625\n"
     ]
    }
   ],
   "source": [
    "a=2**3\n",
    "print(\"Power = \",a)\n",
    "b=4**3\n",
    "print(\"Power = \",b)\n",
    "c=5**6\n",
    "print(\"Power = \",c)"
   ]
  },
  {
   "cell_type": "code",
   "execution_count": 21,
   "id": "183b0115-a9fd-4542-9f64-17546291f35e",
   "metadata": {},
   "outputs": [
    {
     "name": "stdout",
     "output_type": "stream",
     "text": [
      "3\n",
      "2\n",
      "69\n",
      "1\n",
      "0\n"
     ]
    }
   ],
   "source": [
    "a=14//4\n",
    "print(a)\n",
    "b=12//6\n",
    "print(b)\n",
    "c=345//5\n",
    "print(c)\n",
    "d=12//7\n",
    "print(d)\n",
    "e=5//7\n",
    "print(e)"
   ]
  },
  {
   "cell_type": "code",
   "execution_count": 22,
   "id": "6dede176-52f0-4097-9dad-b1be5c0f8e24",
   "metadata": {},
   "outputs": [
    {
     "name": "stdout",
     "output_type": "stream",
     "text": [
      "5\n"
     ]
    }
   ],
   "source": [
    "x=12%7\n",
    "print(x)"
   ]
  },
  {
   "cell_type": "code",
   "execution_count": null,
   "id": "a32791a2-d34c-4d28-8c80-9c22e8f4b81b",
   "metadata": {},
   "outputs": [],
   "source": [
    "# Relational Operator "
   ]
  },
  {
   "cell_type": "code",
   "execution_count": 2,
   "id": "ac7481b4-3992-4754-aed9-a26d098b57a8",
   "metadata": {},
   "outputs": [
    {
     "data": {
      "text/plain": [
       "False"
      ]
     },
     "execution_count": 2,
     "metadata": {},
     "output_type": "execute_result"
    }
   ],
   "source": [
    "4>5"
   ]
  },
  {
   "cell_type": "code",
   "execution_count": 7,
   "id": "bdf41a49-f27e-49cf-bbe3-b49817c9c850",
   "metadata": {},
   "outputs": [
    {
     "data": {
      "text/plain": [
       "False"
      ]
     },
     "execution_count": 7,
     "metadata": {},
     "output_type": "execute_result"
    }
   ],
   "source": [
    "y=\"MysirG\"\n",
    "\"Myi\" in y\n"
   ]
  },
  {
   "cell_type": "code",
   "execution_count": 8,
   "id": "4f2df18c-1d35-460c-a040-ca75e1f9b7ff",
   "metadata": {},
   "outputs": [
    {
     "data": {
      "text/plain": [
       "True"
      ]
     },
     "execution_count": 8,
     "metadata": {},
     "output_type": "execute_result"
    }
   ],
   "source": [
    "y=\"MysirG\"\n",
    "\"sir\" in y"
   ]
  },
  {
   "cell_type": "code",
   "execution_count": 11,
   "id": "2eb1d335-f729-4a73-8a92-f90509dc210f",
   "metadata": {},
   "outputs": [
    {
     "data": {
      "text/plain": [
       "True"
      ]
     },
     "execution_count": 11,
     "metadata": {},
     "output_type": "execute_result"
    }
   ],
   "source": [
    "y=\"56378\"\n",
    "\"3\" in y"
   ]
  },
  {
   "cell_type": "code",
   "execution_count": null,
   "id": "12427a89-1dd3-4da7-9929-9fbb755d297c",
   "metadata": {},
   "outputs": [],
   "source": []
  }
 ],
 "metadata": {
  "kernelspec": {
   "display_name": "Python 3 (ipykernel)",
   "language": "python",
   "name": "python3"
  },
  "language_info": {
   "codemirror_mode": {
    "name": "ipython",
    "version": 3
   },
   "file_extension": ".py",
   "mimetype": "text/x-python",
   "name": "python",
   "nbconvert_exporter": "python",
   "pygments_lexer": "ipython3",
   "version": "3.12.3"
  }
 },
 "nbformat": 4,
 "nbformat_minor": 5
}
