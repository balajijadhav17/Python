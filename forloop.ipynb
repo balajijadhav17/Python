{
 "cells": [
  {
   "cell_type": "code",
   "execution_count": 1,
   "id": "d5ae452d-1bfe-4c69-9d11-1a55249f295d",
   "metadata": {},
   "outputs": [
    {
     "name": "stdout",
     "output_type": "stream",
     "text": [
      "11\n",
      "22\n",
      "33\n",
      "44\n",
      "mark\n",
      "student\n"
     ]
    }
   ],
   "source": [
    "l1=[11,22,33,44,\"mark\",\"student\"]\n",
    "for i in l1:\n",
    "    print(i)"
   ]
  },
  {
   "cell_type": "code",
   "execution_count": 3,
   "id": "06395e32-6a06-47ca-b16d-63271e81891f",
   "metadata": {},
   "outputs": [
    {
     "name": "stdout",
     "output_type": "stream",
     "text": [
      "d a t a s c i e n t i s t "
     ]
    }
   ],
   "source": [
    "s1=\"datascientist\"\n",
    "for i in s1:\n",
    "    print(i,end=\" \")"
   ]
  },
  {
   "cell_type": "code",
   "execution_count": 5,
   "id": "ceabdb5a-5a47-4f54-b8f0-aebc962c2227",
   "metadata": {},
   "outputs": [
    {
     "name": "stdout",
     "output_type": "stream",
     "text": [
      "<class 'tuple'>\n",
      "(1, 2, 3, 4, 'python', 'class', 34.6, 6.6)\n",
      "(6.6, 34.6, 'class', 'python', 4, 3, 2, 1)\n",
      "1\n",
      "2\n",
      "3\n",
      "4\n",
      "python\n",
      "class\n",
      "34.6\n",
      "6.6\n"
     ]
    }
   ],
   "source": [
    "t1=(1,2,3,4,\"python\",\"class\",34.6,6.6)\n",
    "print(type(t1))\n",
    "print(t1)\n",
    "print(t1[::-1])\n",
    "for i in t1:\n",
    "    print(i)"
   ]
  },
  {
   "cell_type": "code",
   "execution_count": 9,
   "id": "5a49a61c-0efe-4ac4-a07e-afeaa7987628",
   "metadata": {},
   "outputs": [
    {
     "name": "stdin",
     "output_type": "stream",
     "text": [
      "Enter the value of n1:  6\n"
     ]
    },
    {
     "name": "stdout",
     "output_type": "stream",
     "text": [
      "Table of 6\n",
      "6 12 18 24 30 36 42 48 54 60 "
     ]
    }
   ],
   "source": [
    "n1=int(input(\"Enter the value of n1: \"))\n",
    "print(\"Table of\",n1)\n",
    "for i in range(1,11):\n",
    "     table=i*n1\n",
    "     print(table,end=\" \")"
   ]
  },
  {
   "cell_type": "code",
   "execution_count": 16,
   "id": "2976e76a-8001-4104-a2ee-e8d21f2cadc8",
   "metadata": {},
   "outputs": [
    {
     "name": "stdout",
     "output_type": "stream",
     "text": [
      "33\n",
      "5.7\n",
      "11\n",
      "44\n",
      "color\n",
      "22\n",
      "55\n",
      "light\n"
     ]
    }
   ],
   "source": [
    "sets={11,22,33,44,55,\"light\",\"color\",5.7}\n",
    "for i in sets:\n",
    "    print(i)"
   ]
  },
  {
   "cell_type": "code",
   "execution_count": 26,
   "id": "4d056b7f-85ae-4930-b130-a340d6205eb1",
   "metadata": {},
   "outputs": [
    {
     "name": "stdout",
     "output_type": "stream",
     "text": [
      "<class 'dict'>\n",
      "{'balaji': 21, 'ganesh': 22, 'avinash': 23, 'harsh': 52} \n",
      "balaji\n",
      "ganesh\n",
      "avinash\n",
      "harsh\n"
     ]
    }
   ],
   "source": [
    "d1={\"balaji\":21,\"ganesh\":22,\"avinash\":23,\"harsh\":52}\n",
    "print(type(d1))\n",
    "print(d1,end=\" \")\n",
    "print()\n",
    "for i in d1:\n",
    "    print(i)"
   ]
  },
  {
   "cell_type": "code",
   "execution_count": 27,
   "id": "47859f4e-a61c-4b86-b606-9888ab4d0c44",
   "metadata": {},
   "outputs": [
    {
     "name": "stdout",
     "output_type": "stream",
     "text": [
      "[1, 4, 9, 16, 25, 36, 49, 64, 81, 100]\n"
     ]
    }
   ],
   "source": [
    "l1=[a**2 for a in range(1,11)]\n",
    "print(l1)"
   ]
  }
 ],
 "metadata": {
  "kernelspec": {
   "display_name": "Python 3 (ipykernel)",
   "language": "python",
   "name": "python3"
  },
  "language_info": {
   "codemirror_mode": {
    "name": "ipython",
    "version": 3
   },
   "file_extension": ".py",
   "mimetype": "text/x-python",
   "name": "python",
   "nbconvert_exporter": "python",
   "pygments_lexer": "ipython3",
   "version": "3.12.4"
  }
 },
 "nbformat": 4,
 "nbformat_minor": 5
}
