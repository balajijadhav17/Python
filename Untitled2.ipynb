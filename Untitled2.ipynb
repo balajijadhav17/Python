{
 "cells": [
  {
   "cell_type": "markdown",
   "id": "c17bdaa1-de49-404c-89c3-ed0bd4947fe4",
   "metadata": {},
   "source": [
    "# Set"
   ]
  },
  {
   "cell_type": "code",
   "execution_count": 1,
   "id": "cb8c8c08-3f14-413c-bcba-8e10973cee07",
   "metadata": {},
   "outputs": [
    {
     "name": "stdout",
     "output_type": "stream",
     "text": [
      "<class 'set'>\n"
     ]
    }
   ],
   "source": [
    "s={11,22,33,44,55}\n",
    "print(type(s))"
   ]
  },
  {
   "cell_type": "code",
   "execution_count": 5,
   "id": "e51be4f4-d009-482e-8a2f-9f6e89deee46",
   "metadata": {},
   "outputs": [
    {
     "name": "stdout",
     "output_type": "stream",
     "text": [
      "{'bj', 11, 22, 6.5}\n"
     ]
    }
   ],
   "source": [
    "s={11,22,\"bj\",6.5,11}\n",
    "print(s)"
   ]
  },
  {
   "cell_type": "code",
   "execution_count": 7,
   "id": "d61265c5-d066-4987-87b2-df69d458c5ee",
   "metadata": {},
   "outputs": [
    {
     "name": "stdout",
     "output_type": "stream",
     "text": [
      "{'y', 'i', 'r', 's', 'm', 'g'}\n",
      "<class 'set'>\n"
     ]
    }
   ],
   "source": [
    "s=set(\"mysirg\")\n",
    "print(s)\n",
    "print(type(s))"
   ]
  },
  {
   "cell_type": "code",
   "execution_count": 9,
   "id": "9e1aaedf-2855-43e3-8ce7-8a255cac8c00",
   "metadata": {},
   "outputs": [
    {
     "name": "stdout",
     "output_type": "stream",
     "text": [
      "1 2 3 4 5 6 7 8 9 10 "
     ]
    }
   ],
   "source": [
    "s={1,2,3,4,5,6,7,8,9,10}\n",
    "for i in s:\n",
    "    print(i,end=\" \")"
   ]
  },
  {
   "cell_type": "code",
   "execution_count": 11,
   "id": "4f2fa5ce-3805-48b7-920d-2a9c10f3b797",
   "metadata": {},
   "outputs": [
    {
     "name": "stdout",
     "output_type": "stream",
     "text": [
      "{'python', 'notebook', 'version'}\n",
      "<class 'set'>\n"
     ]
    }
   ],
   "source": [
    "s={\"python\",\"version\",\"notebook\"}\n",
    "print(s)\n",
    "print(type(s))"
   ]
  },
  {
   "cell_type": "markdown",
   "id": "d3a4a951-5709-4d2b-abde-63a050ccd659",
   "metadata": {},
   "source": [
    "# Set Build in method"
   ]
  },
  {
   "cell_type": "code",
   "execution_count": 13,
   "id": "6ede861f-b513-461e-9cc5-506e6482fda4",
   "metadata": {},
   "outputs": [
    {
     "name": "stdout",
     "output_type": "stream",
     "text": [
      "9\n",
      "99\n",
      "10\n",
      "[10, 11, 22, 33, 44, 55, 66, 67, 99]\n",
      "407\n"
     ]
    }
   ],
   "source": [
    "s={11,22,33,66,99,44,55,10,67}\n",
    "print(len(s))\n",
    "print(max(s))\n",
    "print(min(s))\n",
    "print(sorted(s))\n",
    "print(sum(s))"
   ]
  },
  {
   "cell_type": "markdown",
   "id": "e386d312-d783-4594-9d05-dc64b3cf8762",
   "metadata": {},
   "source": [
    "# Set object method"
   ]
  },
  {
   "cell_type": "code",
   "execution_count": 14,
   "id": "521f4508-5d13-4a94-8cef-706b66416ce8",
   "metadata": {},
   "outputs": [
    {
     "name": "stdout",
     "output_type": "stream",
     "text": [
      "{40, 10, 20, 60, 30}\n"
     ]
    }
   ],
   "source": [
    "s1={40,10,20,30}\n",
    "s1.add(60)\n",
    "print(s1)"
   ]
  },
  {
   "cell_type": "code",
   "execution_count": 18,
   "id": "e58ca136-1200-4fa9-86f8-a02d6c733500",
   "metadata": {},
   "outputs": [
    {
     "name": "stdout",
     "output_type": "stream",
     "text": [
      "{33, 66, 22, 55, 11, 44}\n"
     ]
    }
   ],
   "source": [
    "s2={11,22,33,44,55,66}\n",
    "s2.update((11,))\n",
    "print(s2)"
   ]
  },
  {
   "cell_type": "code",
   "execution_count": 19,
   "id": "e924b63a-63dc-4750-bf9e-3eef6ae75f8e",
   "metadata": {},
   "outputs": [
    {
     "name": "stdout",
     "output_type": "stream",
     "text": [
      "{0, 33, 66, 1, 22, 55, 11, 44}\n"
     ]
    }
   ],
   "source": [
    "s2={11,22,33,44,55,66}\n",
    "s2.update((1,0))\n",
    "print(s2)"
   ]
  },
  {
   "cell_type": "code",
   "execution_count": 20,
   "id": "706e6eef-e65a-4139-a52c-aced67e9ec83",
   "metadata": {},
   "outputs": [
    {
     "name": "stdout",
     "output_type": "stream",
     "text": [
      "{33, 66, 22, 55, 11}\n"
     ]
    }
   ],
   "source": [
    "s2={11,22,33,44,55,66}\n",
    "s2.remove(44)\n",
    "print(s2)"
   ]
  },
  {
   "cell_type": "code",
   "execution_count": 21,
   "id": "27cdec50-6f79-444b-8dd6-cb53319b1489",
   "metadata": {},
   "outputs": [
    {
     "name": "stdout",
     "output_type": "stream",
     "text": [
      "{33, 66, 22, 11, 44}\n"
     ]
    }
   ],
   "source": [
    "s2={11,22,33,44,55,66}\n",
    "s2.discard(55)\n",
    "print(s2)"
   ]
  },
  {
   "cell_type": "code",
   "execution_count": 25,
   "id": "8849eacc-c86a-4b12-a4bf-feef793e9c62",
   "metadata": {},
   "outputs": [
    {
     "name": "stdout",
     "output_type": "stream",
     "text": [
      "{8}\n"
     ]
    }
   ],
   "source": [
    "s1={8,1,5}\n",
    "s2={8,10,2}\n",
    "s=s1.intersection(s2)\n",
    "print(s)"
   ]
  },
  {
   "cell_type": "code",
   "execution_count": 26,
   "id": "23826dd7-1e3b-49e3-b436-9fe078485201",
   "metadata": {},
   "outputs": [
    {
     "name": "stdout",
     "output_type": "stream",
     "text": [
      "{1, 2, 5, 8, 10}\n"
     ]
    }
   ],
   "source": [
    "s1={8,1,5}\n",
    "s2={8,10,2}\n",
    "s=s1.union(s2)\n",
    "print(s)"
   ]
  },
  {
   "cell_type": "code",
   "execution_count": 28,
   "id": "a218d279-1b84-4e1b-a6d4-a2c6d470f494",
   "metadata": {},
   "outputs": [
    {
     "name": "stdout",
     "output_type": "stream",
     "text": [
      "True\n"
     ]
    }
   ],
   "source": [
    "s1={4,2,7,11}\n",
    "s2={1,4,6,22,45,11,5,7,3,2}\n",
    "s=s1.issubset(s2)\n",
    "print(s)"
   ]
  },
  {
   "cell_type": "code",
   "execution_count": 29,
   "id": "ab6e4e4a-de36-42a7-ba8c-a590e4fe4a81",
   "metadata": {},
   "outputs": [
    {
     "name": "stdout",
     "output_type": "stream",
     "text": [
      "False\n"
     ]
    }
   ],
   "source": [
    "s1={4,2,7,11}\n",
    "s2={1,6,22,45,11,5,7,3,2}\n",
    "s=s1.issubset(s2)\n",
    "print(s)"
   ]
  },
  {
   "cell_type": "code",
   "execution_count": 31,
   "id": "6d229bac-3ef7-4971-ac5f-a3cc6b1fed1b",
   "metadata": {},
   "outputs": [
    {
     "name": "stdout",
     "output_type": "stream",
     "text": [
      "True\n"
     ]
    }
   ],
   "source": [
    "s1={4,2,7,11}\n",
    "s2={1,4,6,22,45,11,5,7,3,2}\n",
    "s=s2.issuperset(s1)\n",
    "print(s)"
   ]
  },
  {
   "cell_type": "markdown",
   "id": "e654a69c-c162-4c9e-a736-c904ead4c801",
   "metadata": {},
   "source": [
    "# Frozenset"
   ]
  },
  {
   "cell_type": "markdown",
   "id": "e055bf48-0edd-43d6-ad32-e82cf89b9c13",
   "metadata": {},
   "source": [
    "# Dictionary"
   ]
  },
  {
   "cell_type": "code",
   "execution_count": 82,
   "id": "2937b13c-f495-4140-a7d6-1df8bd1abad0",
   "metadata": {},
   "outputs": [
    {
     "name": "stdout",
     "output_type": "stream",
     "text": [
      "{'pen': 5, 'book': 10, 'pensil': 7}\n",
      "<class 'dict'>\n"
     ]
    }
   ],
   "source": [
    "d1={\"pen\":5,\"book\":10,\"pensil\":7}\n",
    "print(d1)\n",
    "print(type(d1))"
   ]
  },
  {
   "cell_type": "code",
   "execution_count": 81,
   "id": "e95e5dea-191f-4d83-ac0a-e92b0cb902a3",
   "metadata": {},
   "outputs": [
    {
     "name": "stdout",
     "output_type": "stream",
     "text": [
      "{'pen': [1, 2, 3, 4, 5], 'book': 10, 'pensil': 7}\n",
      "<class 'dict'>\n"
     ]
    }
   ],
   "source": [
    "d1={\"pen\":[1,2,3,4,5],\"book\":10,\"pensil\":7}\n",
    "print(d1)\n",
    "print(type(d1))"
   ]
  },
  {
   "cell_type": "code",
   "execution_count": 83,
   "id": "cc2d2e59-1221-43b8-9864-37dc310a42b1",
   "metadata": {},
   "outputs": [
    {
     "name": "stdout",
     "output_type": "stream",
     "text": [
      "Balaji\n"
     ]
    }
   ],
   "source": [
    "d2={17:\"Adarsh\",21:\"Balaji\",22:\"Ganesh\"}\n",
    "print(d2[21])"
   ]
  },
  {
   "cell_type": "code",
   "execution_count": 92,
   "id": "b490f3ef-9c5f-4cb6-b83b-5a005a404347",
   "metadata": {},
   "outputs": [
    {
     "name": "stdout",
     "output_type": "stream",
     "text": [
      "Adarsh Ganesh Balaji\n"
     ]
    }
   ],
   "source": [
    "d2={17:\"Adarsh\",21:\"Balaji\",22:\"Ganesh\"}\n",
    "print(d2[17],d2[22],d2[21])"
   ]
  },
  {
   "cell_type": "code",
   "execution_count": 99,
   "id": "9a9c0909-638e-429a-b3cb-82b329c71dee",
   "metadata": {},
   "outputs": [
    {
     "name": "stdout",
     "output_type": "stream",
     "text": [
      "Key and Value\n",
      "17   Adarsh\n",
      "21   Balaji\n",
      "22   Ganesh\n"
     ]
    }
   ],
   "source": [
    "d2={17:\"Adarsh\",21:\"Balaji\",22:\"Ganesh\"}\n",
    "print(\"Key and Value\")\n",
    "for i in d2:\n",
    "     print(i, \" \" ,d2[i])"
   ]
  },
  {
   "cell_type": "code",
   "execution_count": 101,
   "id": "d6bbe96a-7479-4bee-a62a-556ffc1e1974",
   "metadata": {},
   "outputs": [
    {
     "name": "stdout",
     "output_type": "stream",
     "text": [
      "dict_keys([17, 21, 22])\n"
     ]
    }
   ],
   "source": [
    "d2={17:\"Adarsh\",21:\"Balaji\",22:\"Ganesh\"}\n",
    "d=d2.keys()\n",
    "print(d)"
   ]
  },
  {
   "cell_type": "code",
   "execution_count": 103,
   "id": "8cab95b3-d0bb-44d2-99ba-f81834128445",
   "metadata": {},
   "outputs": [
    {
     "name": "stdout",
     "output_type": "stream",
     "text": [
      "dict_values(['Adarsh', 'Balaji', 'Ganesh'])\n"
     ]
    }
   ],
   "source": [
    "d2={17:\"Adarsh\",21:\"Balaji\",22:\"Ganesh\"}\n",
    "d=d2.values()\n",
    "print(d)"
   ]
  },
  {
   "cell_type": "code",
   "execution_count": 105,
   "id": "83fc69fe-a8b7-43f3-9df9-2d2bf6500080",
   "metadata": {},
   "outputs": [
    {
     "name": "stdout",
     "output_type": "stream",
     "text": [
      "dict_items([(17, 'Adarsh'), (21, 'Balaji'), (22, 'Ganesh')])\n"
     ]
    }
   ],
   "source": [
    "d2={17:\"Adarsh\",21:\"Balaji\",22:\"Ganesh\"}\n",
    "d=d2.items()\n",
    "print(d)"
   ]
  },
  {
   "cell_type": "code",
   "execution_count": 105,
   "id": "298ed30e-b7dd-4f21-a145-1a55e08a29d3",
   "metadata": {},
   "outputs": [
    {
     "name": "stdout",
     "output_type": "stream",
     "text": [
      "dict_items([(17, 'Adarsh'), (21, 'Balaji'), (22, 'Ganesh')])\n"
     ]
    }
   ],
   "source": [
    "d2={17:\"Adarsh\",21:\"Balaji\",22:\"Ganesh\"}\n",
    "d=d2.items()\n",
    "print(d)"
   ]
  },
  {
   "cell_type": "code",
   "execution_count": null,
   "id": "ff5cea39-aa8e-4360-ac51-a6028c183dbb",
   "metadata": {},
   "outputs": [],
   "source": [
    "#"
   ]
  }
 ],
 "metadata": {
  "kernelspec": {
   "display_name": "Python 3 (ipykernel)",
   "language": "python",
   "name": "python3"
  },
  "language_info": {
   "codemirror_mode": {
    "name": "ipython",
    "version": 3
   },
   "file_extension": ".py",
   "mimetype": "text/x-python",
   "name": "python",
   "nbconvert_exporter": "python",
   "pygments_lexer": "ipython3",
   "version": "3.12.4"
  }
 },
 "nbformat": 4,
 "nbformat_minor": 5
}
