{
 "cells": [
  {
   "cell_type": "code",
   "execution_count": 4,
   "id": "8447d293-e671-4b3b-a0c2-1b3e44a484b8",
   "metadata": {},
   "outputs": [
    {
     "name": "stdout",
     "output_type": "stream",
     "text": [
      "Hello World\n"
     ]
    }
   ],
   "source": [
    "print(\"Hello World\")"
   ]
  },
  {
   "cell_type": "code",
   "execution_count": 5,
   "id": "d58169aa-ad6e-4b6c-ac99-64e07f032d7f",
   "metadata": {},
   "outputs": [
    {
     "name": "stdout",
     "output_type": "stream",
     "text": [
      "5\n",
      "7\n"
     ]
    }
   ],
   "source": [
    "x=5\n",
    "y=7\n",
    "print(x)\n",
    "print(y)"
   ]
  },
  {
   "cell_type": "code",
   "execution_count": 17,
   "id": "21baf7f5-f751-48bb-8dde-7c08d7ecab10",
   "metadata": {},
   "outputs": [
    {
     "name": "stdout",
     "output_type": "stream",
     "text": [
      "10 18\n"
     ]
    }
   ],
   "source": [
    "a=10\n",
    "b=18\n",
    "print(a,b)"
   ]
  },
  {
   "cell_type": "code",
   "execution_count": 3,
   "id": "f7e1637b-7986-4b9c-bf50-25a5a796fdc0",
   "metadata": {},
   "outputs": [
    {
     "name": "stdout",
     "output_type": "stream",
     "text": [
      "<class 'int'>\n",
      "<class 'float'>\n",
      "<class 'str'>\n"
     ]
    }
   ],
   "source": [
    "x=10\n",
    "y=10.5\n",
    "z=\"python\"\n",
    "print(type(x))\n",
    "print(type(y))\n",
    "print(type(z))\n"
   ]
  },
  {
   "cell_type": "code",
   "execution_count": 11,
   "id": "25ddc623-15cb-45f2-ad19-f870ac9cbe31",
   "metadata": {},
   "outputs": [
    {
     "name": "stdout",
     "output_type": "stream",
     "text": [
      "addition =  29\n",
      "Substraction =  -9\n",
      "Multiplication =  190\n",
      "Division =  0.5263157894736842\n"
     ]
    }
   ],
   "source": [
    "a=10\n",
    "b=19\n",
    "c=a+b\n",
    "print(\"addition = \",c)\n",
    "c=a-b\n",
    "print(\"Substraction = \",c)\n",
    "c=a*b\n",
    "print(\"Multiplication = \",c)\n",
    "c=a/b\n",
    "print(\"Division = \",c)"
   ]
  },
  {
   "cell_type": "code",
   "execution_count": 17,
   "id": "9aad8964-4a88-4ed4-a45b-57dd2274b022",
   "metadata": {},
   "outputs": [
    {
     "name": "stdout",
     "output_type": "stream",
     "text": [
      "15 - 17 - 20\n",
      "15 17 20 & "
     ]
    }
   ],
   "source": [
    "a=15\n",
    "b=17\n",
    "c=20\n",
    "print(a,b,c, sep = \" - \")\n",
    "print(a,b,c,end = \" & \")"
   ]
  },
  {
   "cell_type": "code",
   "execution_count": 1,
   "id": "02ded32b-9a57-4414-8ef6-7bb7d6209d4f",
   "metadata": {},
   "outputs": [
    {
     "name": "stdout",
     "output_type": "stream",
     "text": [
      "Data Scientist\n",
      "Machine Learning\n"
     ]
    }
   ],
   "source": [
    "a=\"Data Scientist\"\n",
    "b=\"Machine Learning\"\n",
    "print(a)\n",
    "print(b)"
   ]
  },
  {
   "cell_type": "code",
   "execution_count": 2,
   "id": "e3adebf0-999a-42d3-989f-6b9e6b8a39a5",
   "metadata": {},
   "outputs": [
    {
     "name": "stdout",
     "output_type": "stream",
     "text": [
      "10 \n",
      " 12\n"
     ]
    }
   ],
   "source": [
    "a=10\n",
    "b=12\n",
    "print(a,\"\\n\",b)"
   ]
  },
  {
   "cell_type": "code",
   "execution_count": 4,
   "id": "511ca08d-3ed8-4446-b044-f777c493a9d2",
   "metadata": {},
   "outputs": [
    {
     "name": "stdout",
     "output_type": "stream",
     "text": [
      "There are total 35  Keyword in python\n",
      "['False', 'None', 'True', 'and', 'as', 'assert', 'async', 'await', 'break', 'class', 'continue', 'def', 'del', 'elif', 'else', 'except', 'finally', 'for', 'from', 'global', 'if', 'import', 'in', 'is', 'lambda', 'nonlocal', 'not', 'or', 'pass', 'raise', 'return', 'try', 'while', 'with', 'yield']\n"
     ]
    }
   ],
   "source": [
    "import keyword\n",
    "print(\"There are total\",len(keyword.kwlist),\" Keyword in python\")\n",
    "print(keyword.kwlist)"
   ]
  },
  {
   "cell_type": "code",
   "execution_count": null,
   "id": "c462c8a4-0e02-4ef8-96ee-95b202c422a1",
   "metadata": {},
   "outputs": [],
   "source": [
    "\n",
    "print(a)\n"
   ]
  }
 ],
 "metadata": {
  "kernelspec": {
   "display_name": "Python 3 (ipykernel)",
   "language": "python",
   "name": "python3"
  },
  "language_info": {
   "codemirror_mode": {
    "name": "ipython",
    "version": 3
   },
   "file_extension": ".py",
   "mimetype": "text/x-python",
   "name": "python",
   "nbconvert_exporter": "python",
   "pygments_lexer": "ipython3",
   "version": "3.12.3"
  }
 },
 "nbformat": 4,
 "nbformat_minor": 5
}
