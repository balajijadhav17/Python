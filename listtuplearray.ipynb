{
 "cells": [
  {
   "cell_type": "markdown",
   "id": "a6cafe37-28cb-437e-bac3-dba2b02a2694",
   "metadata": {},
   "source": [
    "# List"
   ]
  },
  {
   "cell_type": "code",
   "execution_count": 69,
   "id": "ac706b03-5345-4114-a345-4a2756bec16d",
   "metadata": {},
   "outputs": [
    {
     "name": "stdout",
     "output_type": "stream",
     "text": [
      "[11, 22, 33, 44, 55]\n"
     ]
    }
   ],
   "source": [
    "l1=[11,22,33,44,55]\n",
    "print(l1)"
   ]
  },
  {
   "cell_type": "code",
   "execution_count": 70,
   "id": "1ef2e643-21cb-479b-836a-17259738e4da",
   "metadata": {},
   "outputs": [
    {
     "name": "stdout",
     "output_type": "stream",
     "text": [
      "[1, 34.5, 'python', 12, 44, 6.8, 'list']\n"
     ]
    }
   ],
   "source": [
    "l1=[1,34.5,\"python\",12,44,6.8,\"list\"]\n",
    "print(l1)"
   ]
  },
  {
   "cell_type": "code",
   "execution_count": 71,
   "id": "435accd3-426f-48d8-b16e-7bf978412c1d",
   "metadata": {},
   "outputs": [
    {
     "name": "stdout",
     "output_type": "stream",
     "text": [
      "[1, 2, 3, 4, 5, 6]\n"
     ]
    }
   ],
   "source": [
    "l2=[1,2,3,4,5,6]\n",
    "print(l2[:])"
   ]
  },
  {
   "cell_type": "code",
   "execution_count": 72,
   "id": "93478b4a-6c2d-4cff-ae2d-b72b0308c442",
   "metadata": {},
   "outputs": [
    {
     "name": "stdout",
     "output_type": "stream",
     "text": [
      "[34, 56, 78]\n"
     ]
    }
   ],
   "source": [
    "l3=[12,34,56,78,89]\n",
    "print(l3[1:4])"
   ]
  },
  {
   "cell_type": "code",
   "execution_count": 73,
   "id": "3aa4a00b-20d9-4b64-8ea2-063c28dae9a2",
   "metadata": {},
   "outputs": [
    {
     "name": "stdout",
     "output_type": "stream",
     "text": [
      "99 88 77 66 55 44 33 22 11 program line tuple 5.6 7.8 44.5 "
     ]
    }
   ],
   "source": [
    "l4=[99,88,77,66,55,44,33,22,11,\"program\",\"line\",\"tuple\",5.6,7.8,44.5]\n",
    "for i in l4:\n",
    "    print(i,end=\" \")"
   ]
  },
  {
   "cell_type": "code",
   "execution_count": 74,
   "id": "cf8c9424-2bcc-4e38-89ad-e48a92e27ddb",
   "metadata": {},
   "outputs": [
    {
     "name": "stdout",
     "output_type": "stream",
     "text": [
      "['program', 'line', 'tuple', 5.6, 7.8]\n"
     ]
    }
   ],
   "source": [
    "l4=[99,88,77,66,55,44,33,22,11,\"program\",\"line\",\"tuple\",5.6,7.8,44.5]\n",
    "print(l4[-6:-1])"
   ]
  },
  {
   "cell_type": "markdown",
   "id": "70cd07ed-df47-4ab7-86eb-52dc47aea501",
   "metadata": {},
   "source": [
    "# Built in function in list"
   ]
  },
  {
   "cell_type": "code",
   "execution_count": 75,
   "id": "99767d22-5914-45f4-a712-34d2c8ed06df",
   "metadata": {},
   "outputs": [
    {
     "name": "stdout",
     "output_type": "stream",
     "text": [
      "[99, 88, 77, 66, 55, 44, 33, 22, 11]\n",
      "9\n",
      "[11, 22, 33, 44, 55, 66, 77, 88, 99]\n",
      "495\n",
      "99\n",
      "11\n"
     ]
    }
   ],
   "source": [
    "l5=[99,88,77,66,55,44,33,22,11]\n",
    "print(l5)\n",
    "print(len(l5))\n",
    "print(sorted(l5))\n",
    "print(sum(l5))\n",
    "print(max(l5))\n",
    "print(min(l5))"
   ]
  },
  {
   "cell_type": "markdown",
   "id": "ec5eee1f-a644-4c8d-baca-aabf99d6b43b",
   "metadata": {},
   "source": [
    "# Object Method in List"
   ]
  },
  {
   "cell_type": "code",
   "execution_count": 98,
   "id": "9843abe4-37b6-4ab0-a4fa-187e3406778c",
   "metadata": {},
   "outputs": [
    {
     "name": "stdout",
     "output_type": "stream",
     "text": [
      "[99, 77, 66, 55, 44, 33, 22, 11, 'program', 'line', 'tuple', 5.6, 33, 66, 11, 88, 7.8, 44.5]\n"
     ]
    }
   ],
   "source": [
    "l4=[99,88,77,66,55,44,33,22,11,\"program\",\"line\",\"tuple\",5.6,33,66,11,88,7.8,44.5]\n",
    "del l4[1]\n",
    "print(l4)"
   ]
  },
  {
   "cell_type": "code",
   "execution_count": 76,
   "id": "ac063633-6da4-4e55-b452-f7c2e3bbfdb0",
   "metadata": {},
   "outputs": [
    {
     "name": "stdout",
     "output_type": "stream",
     "text": [
      "[99, 88, 77, 66, 55, 44, 33, 22, 11, 'program', 'line', 'tuple', 5.6, 33, 66, 11, 88, 7.8, 44.5, 'data']\n",
      "[99, 88, 77, 111, 66, 55, 44, 33, 22, 11, 'program', 'line', 'tuple', 5.6, 33, 66, 11, 88, 7.8, 44.5, 'data']\n",
      "[99, 88, 77, 111, 66, 55, 44, 33, 11, 'program', 'line', 'tuple', 5.6, 33, 66, 11, 88, 7.8, 44.5, 'data']\n",
      "[99, 88, 77, 111, 66, 55, 44, 33, 11, 'program', 'line', 'tuple', 5.6, 33, 66, 11, 88, 7.8, 44.5]\n"
     ]
    }
   ],
   "source": [
    "l4=[99,88,77,66,55,44,33,22,11,\"program\",\"line\",\"tuple\",5.6,33,66,11,88,7.8,44.5]\n",
    "l4.append(\"data\")\n",
    "print(l4)\n",
    "l4.insert(3,111)\n",
    "print(l4)\n",
    "l4.remove(22)\n",
    "print(l4)\n",
    "l4.pop()\n",
    "print(l4)\n"
   ]
  },
  {
   "cell_type": "code",
   "execution_count": 77,
   "id": "1d8e9051-8ffb-445e-b287-fd8da1513a36",
   "metadata": {},
   "outputs": [
    {
     "name": "stdout",
     "output_type": "stream",
     "text": [
      "[11, 22, 33, 44, 55, 66, 77, 88, 99]\n"
     ]
    }
   ],
   "source": [
    "l5=[99,88,77,66,55,44,33,22,11]\n",
    "l5.sort()\n",
    "print(l5)"
   ]
  },
  {
   "cell_type": "code",
   "execution_count": 78,
   "id": "c497380a-261b-4b7d-8996-b28d8be15738",
   "metadata": {},
   "outputs": [
    {
     "name": "stdout",
     "output_type": "stream",
     "text": [
      "[77, 33, 44, 99, 11, 22, 33, 44, 55, 66, 77, 88, 99]\n"
     ]
    }
   ],
   "source": [
    "l5=[99,88,77,66,55,44,33,22,11,99,44,33,77]\n",
    "l5.reverse()\n",
    "print(l5)"
   ]
  },
  {
   "cell_type": "code",
   "execution_count": 79,
   "id": "6cda13d8-863b-4e00-a2e6-5715b4564316",
   "metadata": {},
   "outputs": [
    {
     "name": "stdout",
     "output_type": "stream",
     "text": [
      "[99, 88, 77, 66, 55, 44, 33, 22, 11, 99, 44, 33, 77]\n",
      "2\n"
     ]
    }
   ],
   "source": [
    "l5=[99,88,77,66,55,44,33,22,11,99,44,33,77]\n",
    "print(l5)\n",
    "print(l5.index(77))"
   ]
  },
  {
   "cell_type": "code",
   "execution_count": 80,
   "id": "a2e2ade8-f91d-482a-b971-ce01a09e7288",
   "metadata": {},
   "outputs": [
    {
     "name": "stdout",
     "output_type": "stream",
     "text": [
      "[99, 88, 77, 66, 55, 44, 33, 22, 11, 99, 44, 33, 77, 33, 33]\n",
      "4\n"
     ]
    }
   ],
   "source": [
    "l5=[99,88,77,66,55,44,33,22,11,99,44,33,77,33,33]\n",
    "print(l5)\n",
    "print(l5.count(33))"
   ]
  },
  {
   "cell_type": "code",
   "execution_count": 81,
   "id": "9a5e8ae1-a86b-493e-b2fe-1484adef199b",
   "metadata": {},
   "outputs": [
    {
     "name": "stdout",
     "output_type": "stream",
     "text": [
      "[99, 88, 77, 66, 55, 44, 33, 22, 11, 99, 44, 33, 77, 33, 33]\n",
      "[99, 88, 77, 66, 55, 44, 33, 22, 11, 99, 44, 33, 77, 33, 33]\n"
     ]
    }
   ],
   "source": [
    "l5=[99,88,77,66,55,44,33,22,11,99,44,33,77,33,33]\n",
    "print(l5)\n",
    "l5.copy()\n",
    "print(l5)"
   ]
  },
  {
   "cell_type": "code",
   "execution_count": 82,
   "id": "a1962930-65c4-4e5b-95b6-bd1b80f54edb",
   "metadata": {},
   "outputs": [
    {
     "name": "stdout",
     "output_type": "stream",
     "text": [
      "[99, 88, 77, 66, 55, 44, 33, 22, 11, 99, 44, 33, 77, 33, 33]\n",
      "[]\n"
     ]
    }
   ],
   "source": [
    "l5=[99,88,77,66,55,44,33,22,11,99,44,33,77,33,33]\n",
    "print(l5)\n",
    "l5.clear()\n",
    "print(l5)"
   ]
  },
  {
   "cell_type": "markdown",
   "id": "d624bf8a-d0b6-42db-95a7-77626cc20d7b",
   "metadata": {},
   "source": [
    "# Tuples"
   ]
  },
  {
   "cell_type": "code",
   "execution_count": 83,
   "id": "18f4604d-e7e3-4ba1-b449-956cc8af8ded",
   "metadata": {},
   "outputs": [
    {
     "name": "stdout",
     "output_type": "stream",
     "text": [
      "(111, 222, 333, 444, 555, 666, 'right', 4.6, 7.8)\n"
     ]
    }
   ],
   "source": [
    "t1=(111,222,333,444,555,666,\"right\",4.6,7.8)\n",
    "print(t1)"
   ]
  },
  {
   "cell_type": "code",
   "execution_count": 84,
   "id": "f34dcaea-c5bc-459b-a216-e3301834610d",
   "metadata": {},
   "outputs": [
    {
     "name": "stdout",
     "output_type": "stream",
     "text": [
      "(222, 333, 444, 555)\n"
     ]
    }
   ],
   "source": [
    "t1=(111,222,333,444,555,666,\"right\",4.6,7.8)\n",
    "print(t1[1:5])"
   ]
  },
  {
   "cell_type": "code",
   "execution_count": 85,
   "id": "15079e0c-67e7-4328-8134-073cafcd840c",
   "metadata": {},
   "outputs": [
    {
     "name": "stdout",
     "output_type": "stream",
     "text": [
      "111 222 333 444 555 666 right 4.6 7.8 "
     ]
    }
   ],
   "source": [
    "t1=(111,222,333,444,555,666,\"right\",4.6,7.8)\n",
    "for i in t1:\n",
    "    print(i,end=\" \")"
   ]
  },
  {
   "cell_type": "markdown",
   "id": "f72a2e13-cb3b-434f-ab36-9a801e89556d",
   "metadata": {},
   "source": [
    "# Build in Function in Tuple"
   ]
  },
  {
   "cell_type": "code",
   "execution_count": 86,
   "id": "215168a4-9d4c-4343-bd52-86c52e1cc0ee",
   "metadata": {},
   "outputs": [
    {
     "name": "stdout",
     "output_type": "stream",
     "text": [
      "(9, 8, 7, 6, 5, 4, 3, 2, 1, 10, 11, 12, 13, 14, 15)\n",
      "15\n",
      "[1, 2, 3, 4, 5, 6, 7, 8, 9, 10, 11, 12, 13, 14, 15]\n",
      "15\n",
      "1\n",
      "120\n"
     ]
    }
   ],
   "source": [
    "t1=(9,8,7,6,5,4,3,2,1,10,11,12,13,14,15)\n",
    "print(t1)\n",
    "print(len(t1))\n",
    "print(sorted(t1))\n",
    "print(max(t1))\n",
    "print(min(t1))\n",
    "print(sum(t1))"
   ]
  },
  {
   "cell_type": "markdown",
   "id": "b81e1621-fe5c-4a6d-899b-46e70238e582",
   "metadata": {},
   "source": [
    "# Object Method in Tuple"
   ]
  },
  {
   "cell_type": "code",
   "execution_count": 87,
   "id": "42b96a67-c1bf-4df0-9bb5-90a94d9da028",
   "metadata": {},
   "outputs": [
    {
     "name": "stdout",
     "output_type": "stream",
     "text": [
      "2\n"
     ]
    }
   ],
   "source": [
    "t1=(1,2,3,4,5,3,7,1,11,4444,6,7,8,99,10,2.5,12)\n",
    "print(t1.index(3))"
   ]
  },
  {
   "cell_type": "code",
   "execution_count": 88,
   "id": "f908bf04-be1a-4cac-83e8-21abcc9fe22f",
   "metadata": {},
   "outputs": [
    {
     "name": "stdout",
     "output_type": "stream",
     "text": [
      "4\n"
     ]
    }
   ],
   "source": [
    "t1=(1,2,3,4,5,3,7,1,11,4444,6,7,8,99,3,10,2.5,12,3)\n",
    "print(t1.count(3))"
   ]
  },
  {
   "cell_type": "markdown",
   "id": "107520e8-e363-4edc-bc37-0d0c7dbc75e2",
   "metadata": {},
   "source": [
    "# Array"
   ]
  },
  {
   "cell_type": "code",
   "execution_count": 89,
   "id": "6ab2a47f-90c8-4579-8ebf-1e4f1aee554a",
   "metadata": {},
   "outputs": [],
   "source": [
    "import array as arr"
   ]
  },
  {
   "cell_type": "code",
   "execution_count": 90,
   "id": "2a2adc0b-6490-417a-9054-88cb2a012c2a",
   "metadata": {},
   "outputs": [
    {
     "name": "stdout",
     "output_type": "stream",
     "text": [
      "array('i', [11, 22, 33, 44])\n",
      "<class 'array.array'>\n"
     ]
    }
   ],
   "source": [
    "a=arr.array(\"i\",[11,22,33,44])\n",
    "print(a)\n",
    "print(type(a))"
   ]
  },
  {
   "cell_type": "code",
   "execution_count": 91,
   "id": "4943fb37-71fc-4ac8-bedc-eb19c78bea6a",
   "metadata": {},
   "outputs": [
    {
     "name": "stdout",
     "output_type": "stream",
     "text": [
      "11 22 33 44 55 66 77 "
     ]
    }
   ],
   "source": [
    "b=arr.array(\"i\",[11,22,33,44,55,66,77])\n",
    "for i in range(0,7):\n",
    "     print(b[i],end=\" \")"
   ]
  },
  {
   "cell_type": "code",
   "execution_count": 92,
   "id": "5b2907be-f0e8-4b4f-a29d-5ef06b1ba0aa",
   "metadata": {},
   "outputs": [
    {
     "name": "stdout",
     "output_type": "stream",
     "text": [
      "1.1 2.2 3.3 4.4 5.5 6.6 7.7 "
     ]
    }
   ],
   "source": [
    "b=arr.array(\"d\",[1.1,2.2,3.3,4.4,5.5,6.6,7.7])\n",
    "for i in range(0,7):\n",
    "     print(b[i],end=\" \")"
   ]
  },
  {
   "cell_type": "code",
   "execution_count": 93,
   "id": "de5655c9-43c3-4f3c-8df5-3d14d03e588b",
   "metadata": {},
   "outputs": [
    {
     "name": "stdout",
     "output_type": "stream",
     "text": [
      "1.1 2.2 3.3 4.4 5.5 6.6 7.7 "
     ]
    }
   ],
   "source": [
    "b=arr.array(\"d\",[1.1,2.2,3.3,4.4,5.5,6.6,7.7])\n",
    "for i in range(0,7):\n",
    "     print(b[i],end=\" \")"
   ]
  },
  {
   "cell_type": "code",
   "execution_count": 104,
   "id": "474aa387-ef2c-4e3b-b25c-9aaf8afeb78e",
   "metadata": {},
   "outputs": [
    {
     "name": "stdout",
     "output_type": "stream",
     "text": [
      "11 22 33 44 55 66 77 \n",
      "11 22 33 44 55 66 77 88 \n",
      "11 22 33 44 55 66 77 88 111 \n",
      "11-22-33-55-66-77-88-111-\n",
      "11 22 33 55 66 77 88 \n",
      "88 77 66 55 33 22 11 "
     ]
    }
   ],
   "source": [
    "b=arr.array(\"i\",[11,22,33,44,55,66,77])\n",
    "for i in range(0,7):\n",
    "     print(b[i],end=\" \")\n",
    "print()\n",
    "b.insert(7,88)\n",
    "for i in (b):\n",
    "     print(i,end=\" \")\n",
    "print()\n",
    "b.append(111)\n",
    "for i in (b):\n",
    "    print(i,end=\" \")\n",
    "print()    \n",
    "b.remove(44)\n",
    "for i in (b):\n",
    "    print(i,end=\"-\")\n",
    "print()\n",
    "b.pop()\n",
    "for i in (b):\n",
    "    print(i,end=\" \")\n",
    "print()\n",
    "b.reverse()\n",
    "for i in (b):\n",
    "    print(i,end=\" \")\n",
    "\n"
   ]
  },
  {
   "cell_type": "code",
   "execution_count": 120,
   "id": "1ea2fb12-20e7-4f5a-a677-8084f0b364c7",
   "metadata": {},
   "outputs": [
    {
     "name": "stdout",
     "output_type": "stream",
     "text": [
      "2\n"
     ]
    }
   ],
   "source": [
    "a=arr.array(\"i\",[1,2,3,4,5,2,7,8,3,10,11,3])\n",
    "b=a.count(2)\n",
    "print(b)"
   ]
  },
  {
   "cell_type": "code",
   "execution_count": 14,
   "id": "397dac8e-06f2-4706-8439-204e2e7731e6",
   "metadata": {},
   "outputs": [
    {
     "name": "stdout",
     "output_type": "stream",
     "text": [
      "4\n"
     ]
    }
   ],
   "source": [
    "a=arr.array(\"L\",[1,2,3,4,5,2,7,8,3,10,11,3])\n",
    "b=a.index(5)\n",
    "print(b)"
   ]
  },
  {
   "cell_type": "code",
   "execution_count": 16,
   "id": "dd42b6b7-6fbd-48e1-a7bc-c4f77e8d33c6",
   "metadata": {},
   "outputs": [
    {
     "name": "stdout",
     "output_type": "stream",
     "text": [
      "9\n"
     ]
    }
   ],
   "source": [
    "a=arr.array(\"i\",[1,2,3,4,5,2,7,8,3,10,11,3])\n",
    "b=a.index(10)\n",
    "print(b)"
   ]
  },
  {
   "cell_type": "code",
   "execution_count": 18,
   "id": "ec4ab25b-b7d8-4fb7-9702-0972b2ac8f2a",
   "metadata": {},
   "outputs": [
    {
     "name": "stdout",
     "output_type": "stream",
     "text": [
      "10\n"
     ]
    }
   ],
   "source": [
    "a=arr.array(\"q\",[1,2,3,4,5,2,7,8,3,10,11,3])\n",
    "b=a.index(11)\n",
    "print(b)"
   ]
  },
  {
   "cell_type": "code",
   "execution_count": 20,
   "id": "623bce83-34ac-4143-bc47-01b663e2a65d",
   "metadata": {},
   "outputs": [
    {
     "name": "stdout",
     "output_type": "stream",
     "text": [
      "0\n"
     ]
    }
   ],
   "source": [
    "a=arr.array(\"Q\",[1,2,3,4,5,2,7,8,3,10,11,3])\n",
    "b=a.index(1)\n",
    "print(b)"
   ]
  },
  {
   "cell_type": "code",
   "execution_count": 21,
   "id": "56ce1dc1-3fed-4a32-a64a-32540a874d04",
   "metadata": {},
   "outputs": [
    {
     "name": "stdout",
     "output_type": "stream",
     "text": [
      "2\n"
     ]
    }
   ],
   "source": [
    "a=arr.array(\"f\",[1,2,3,4,5,2,7,8,3,10,11,3])\n",
    "b=a.index(3)\n",
    "print(b)"
   ]
  },
  {
   "cell_type": "code",
   "execution_count": 23,
   "id": "682857e8-bd90-4164-9734-decd47032a1b",
   "metadata": {},
   "outputs": [
    {
     "name": "stdout",
     "output_type": "stream",
     "text": [
      "1\n"
     ]
    }
   ],
   "source": [
    "a=arr.array(\"H\",[1,2,3,4,5,2,7,8,3,10,11,3])\n",
    "b=a.index(2)\n",
    "print(b)"
   ]
  },
  {
   "cell_type": "code",
   "execution_count": 24,
   "id": "145d645a-d750-4806-8b03-c92d80912573",
   "metadata": {},
   "outputs": [
    {
     "name": "stdout",
     "output_type": "stream",
     "text": [
      "6\n"
     ]
    }
   ],
   "source": [
    "a=arr.array(\"B\",[1,2,3,4,5,2,7,8,3,10,11,3])\n",
    "b=a.index(7)\n",
    "print(b)"
   ]
  },
  {
   "cell_type": "code",
   "execution_count": null,
   "id": "630a34d8-85f4-4af5-8ff3-7a235dba3427",
   "metadata": {},
   "outputs": [],
   "source": []
  },
  {
   "cell_type": "code",
   "execution_count": null,
   "id": "9d049739-196c-49f6-ad8a-f71cb06aa436",
   "metadata": {},
   "outputs": [],
   "source": []
  }
 ],
 "metadata": {
  "kernelspec": {
   "display_name": "Python 3 (ipykernel)",
   "language": "python",
   "name": "python3"
  },
  "language_info": {
   "codemirror_mode": {
    "name": "ipython",
    "version": 3
   },
   "file_extension": ".py",
   "mimetype": "text/x-python",
   "name": "python",
   "nbconvert_exporter": "python",
   "pygments_lexer": "ipython3",
   "version": "3.12.4"
  }
 },
 "nbformat": 4,
 "nbformat_minor": 5
}
