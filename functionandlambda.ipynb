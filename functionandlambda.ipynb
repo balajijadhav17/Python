{
 "cells": [
  {
   "cell_type": "markdown",
   "id": "9a0f417f-e1d0-47a3-90a5-846fb416d77b",
   "metadata": {},
   "source": [
    "# Function"
   ]
  },
  {
   "cell_type": "code",
   "execution_count": 1,
   "id": "9f6632d9-19d3-4beb-869e-2b81aac66ba6",
   "metadata": {},
   "outputs": [
    {
     "name": "stdin",
     "output_type": "stream",
     "text": [
      "Enter first number: 10\n",
      "Enter Second number: 3\n"
     ]
    },
    {
     "name": "stdout",
     "output_type": "stream",
     "text": [
      "Addition 13\n",
      "substration 7\n",
      "multiplication 30\n",
      "division 3.3333333333333335\n",
      "power 1000\n",
      "mod 1\n",
      "flor divison 3\n"
     ]
    },
    {
     "name": "stdin",
     "output_type": "stream",
     "text": [
      "Enter first number: 20\n",
      "Enter Second number: 2\n"
     ]
    },
    {
     "name": "stdout",
     "output_type": "stream",
     "text": [
      "Addition 22\n",
      "substration 18\n",
      "multiplication 40\n",
      "division 10.0\n",
      "power 400\n",
      "mod 0\n",
      "flor divison 10\n"
     ]
    }
   ],
   "source": [
    "def arithmatic(): # function declaration\n",
    "    a=int(input(\"Enter first number:\"))\n",
    "    b=int(input(\"Enter Second number:\"))\n",
    "    add=a+b\n",
    "    sub=a-b\n",
    "    mul=a*b\n",
    "    div=a/b\n",
    "    power=a**b\n",
    "    mod=a%b\n",
    "    div_flor=a//b\n",
    "    print(\"Addition\",add)\n",
    "    print(\"substration\",sub)\n",
    "    print(\"multiplication\",mul)\n",
    "    print(\"division\",div)\n",
    "    print(\"power\",power)\n",
    "    print(\"mod\",mod)\n",
    "    print(\"flor divison\",div_flor)\n",
    "\n",
    "arithmatic() # function Calling\n",
    "arithmatic() # function Calling\n",
    "\n",
    "    \n"
   ]
  },
  {
   "cell_type": "code",
   "execution_count": 4,
   "id": "c3452147-5468-41c5-bb8a-224866823827",
   "metadata": {},
   "outputs": [
    {
     "name": "stdout",
     "output_type": "stream",
     "text": [
      "C is greater\n",
      "a is greater\n"
     ]
    }
   ],
   "source": [
    "def greater(a,b,c):\n",
    "    if (a>=b) and (a>=c):\n",
    "        print(\"a is greater\")\n",
    "    elif (b>=a) and (b>=c):\n",
    "         print(\"b is greater\")\n",
    "    elif (a==b) and (a==c):\n",
    "        print(\"all equal\")\n",
    "    else:\n",
    "        print(\"C is greater\")\n",
    "\n",
    "greater(11,34,98)\n",
    "greater(11,4,7)\n"
   ]
  },
  {
   "cell_type": "code",
   "execution_count": 12,
   "id": "ca703cb4-a092-4148-ba09-fc02842a0a3e",
   "metadata": {},
   "outputs": [
    {
     "name": "stdout",
     "output_type": "stream",
     "text": [
      "1\n",
      "3\n",
      "5\n",
      "7\n",
      "9\n"
     ]
    }
   ],
   "source": [
    "def number():\n",
    "    l1=[2,4,8,5,9,10,12,56,59]\n",
    "    for l1 in range(1,10):\n",
    "        if(l1%2!=0):\n",
    "            print(l1)\n",
    "number()        "
   ]
  },
  {
   "cell_type": "code",
   "execution_count": 10,
   "id": "91410ca3-9b36-4ece-922f-fa52f16ec292",
   "metadata": {},
   "outputs": [
    {
     "name": "stdout",
     "output_type": "stream",
     "text": [
      "0\n",
      "1\n",
      "1\n",
      "2\n",
      "3\n",
      "5\n",
      "8\n",
      "13\n",
      "21\n",
      "34\n"
     ]
    }
   ],
   "source": [
    "def fab(n):\n",
    "      n1, n2 = 0, 1\n",
    "      count = 0\n",
    "      while count < n:\n",
    "       print(n1)\n",
    "       n3 = n1 + n2\n",
    "       n1 = n2\n",
    "       n2 = n3\n",
    "       count += 1\n",
    "fab(10)"
   ]
  },
  {
   "cell_type": "markdown",
   "id": "899dd67c-cf6c-4f4c-8ce0-66e758290243",
   "metadata": {},
   "source": [
    "# lambda"
   ]
  },
  {
   "cell_type": "code",
   "execution_count": 38,
   "id": "acb2ae80-939d-4978-9ee7-ae83809b555a",
   "metadata": {},
   "outputs": [
    {
     "name": "stdin",
     "output_type": "stream",
     "text": [
      "Enter no. 50\n"
     ]
    },
    {
     "name": "stdout",
     "output_type": "stream",
     "text": [
      "60\n",
      "15\n",
      "120\n",
      "0.1\n",
      "25\n"
     ]
    }
   ],
   "source": [
    "n=int(input(\"Enter no.\"))\n",
    "add=lambda x:x+10\n",
    "print(add(n))\n",
    "sub=lambda x:x-5\n",
    "print(sub(20))\n",
    "mul=lambda x:x*6\n",
    "print(mul(20))\n",
    "div=lambda x:x/20\n",
    "print(div(2))\n",
    "power=lambda x:x**2\n",
    "print(power(5))\n",
    "\n",
    "\n"
   ]
  },
  {
   "cell_type": "code",
   "execution_count": 14,
   "id": "3e04c6fd-292a-4989-9075-8764efd97563",
   "metadata": {},
   "outputs": [
    {
     "name": "stdout",
     "output_type": "stream",
     "text": [
      "[2, 4, 6, 8, 10, 12, 14, 16, 18, 20, 22, 24, 26, 28, 30]\n"
     ]
    }
   ],
   "source": [
    "l=range(1,31)\n",
    "n=list(filter(lambda x:x%2==0,l))\n",
    "print(n)"
   ]
  },
  {
   "cell_type": "code",
   "execution_count": 30,
   "id": "fbbf2a8a-ef18-46e5-8b90-8a59ad87ca9c",
   "metadata": {},
   "outputs": [
    {
     "name": "stdout",
     "output_type": "stream",
     "text": [
      "19\n"
     ]
    }
   ],
   "source": [
    "greater = lambda a, b, c:a if(a > b) and (a>c)\n",
    "print(greater(11,19))\n",
    "\n",
    "\n",
    "\n"
   ]
  }
 ],
 "metadata": {
  "kernelspec": {
   "display_name": "Python 3 (ipykernel)",
   "language": "python",
   "name": "python3"
  },
  "language_info": {
   "codemirror_mode": {
    "name": "ipython",
    "version": 3
   },
   "file_extension": ".py",
   "mimetype": "text/x-python",
   "name": "python",
   "nbconvert_exporter": "python",
   "pygments_lexer": "ipython3",
   "version": "3.12.4"
  }
 },
 "nbformat": 4,
 "nbformat_minor": 5
}
